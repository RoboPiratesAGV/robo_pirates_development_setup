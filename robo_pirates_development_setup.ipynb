{
  "nbformat": 4,
  "nbformat_minor": 0,
  "metadata": {
    "colab": {
      "name": "robo_pirates_development_setup.ipynb",
      "provenance": [],
      "authorship_tag": "ABX9TyO0tFZXhNKO/KzHeYUHhCEq",
      "include_colab_link": true
    },
    "kernelspec": {
      "name": "python3",
      "display_name": "Python 3"
    },
    "language_info": {
      "name": "python"
    }
  },
  "cells": [
    {
      "cell_type": "markdown",
      "metadata": {
        "id": "view-in-github",
        "colab_type": "text"
      },
      "source": [
        "<a href=\"https://colab.research.google.com/github/RoboPiratesAGV/robo_pirates_development_setup/blob/main/robo_pirates_development_setup.ipynb\" target=\"_parent\"><img src=\"https://colab.research.google.com/assets/colab-badge.svg\" alt=\"Open In Colab\"/></a>"
      ]
    },
    {
      "cell_type": "code",
      "metadata": {
        "colab": {
          "base_uri": "https://localhost:8080/"
        },
        "id": "eLE-dOkjF0nu",
        "outputId": "60b7726c-4baa-458b-e57d-afde13684d5b"
      },
      "source": [
        "# Authenticate gdrive\n",
        "from google.colab import drive\n",
        "drive.mount(\"/content/drive/\")"
      ],
      "execution_count": null,
      "outputs": [
        {
          "output_type": "stream",
          "text": [
            "Mounted at /content/drive/\n"
          ],
          "name": "stdout"
        }
      ]
    },
    {
      "cell_type": "code",
      "metadata": {
        "colab": {
          "base_uri": "https://localhost:8080/"
        },
        "id": "mtQ8DvyDJgpO",
        "outputId": "3a2d0ab3-95b3-4af1-bc05-7bfb9a54b24c"
      },
      "source": [
        "# exporting some environment variables\n",
        "%env MODE=development\n",
        "%env PROJECT_DIR=robo_pirates_dev"
      ],
      "execution_count": null,
      "outputs": [
        {
          "output_type": "stream",
          "text": [
            "env: MODE=development\n",
            "env: PROJECT_DIR=robo_pirates_dev\n"
          ],
          "name": "stdout"
        }
      ]
    },
    {
      "cell_type": "markdown",
      "metadata": {
        "id": "1NOKnWpwEu5z"
      },
      "source": [
        "### For setting up the development environment - restart the runtime, copy paste the below code to a code cell, replace the placeholders with your credentials and execute.\n",
        "\n",
        "```shell\n",
        "%%shell\n",
        "\n",
        "## Your GitHub Username and Pword\n",
        "## Do not  commit your username or pword to github\n",
        "GH_USERNAME=\"<YOUR GH USERNAME>\"\n",
        "GH_PASSWORD=\"<YOUR GH PASSWORD>\"\n",
        " \n",
        "set -e\n",
        "set -x\n",
        "cd /content/drive/MyDrive/\n",
        "git clone \"https://${GH_USERNAME}@${GH_PASSWORD}github.com/RoboPiratesAGV/robo_pirates_dev.git\"\n",
        "cd \"$PROJECT_DIR\"\n",
        "wget -O data.zip \"https://github.com/RoboPiratesAGV/${MODE}_data/archive/refs/heads/master.zip\"\n",
        "unzip data.zip -d .\n",
        "mv \"${MODE}_data-master\" \"data\"\n",
        "cd data\n",
        "unzip \"*.zip\" -d .\n",
        "rm data_images.zip data_labels.zip ../data.zip\n",
        "echo \"Finished Setup !!\"\n",
        "```"
      ]
    },
    {
      "cell_type": "code",
      "metadata": {
        "id": "2w5Q_c4bVDuB"
      },
      "source": [
        ""
      ],
      "execution_count": null,
      "outputs": []
    }
  ]
}