{
  "nbformat": 4,
  "nbformat_minor": 0,
  "metadata": {
    "colab": {
      "name": "robo_pirates_development_setup.ipynb",
      "provenance": []
    },
    "kernelspec": {
      "display_name": "Python 3",
      "name": "python3"
    },
    "language_info": {
      "name": "python"
    }
  },
  "cells": [
    {
      "cell_type": "code",
      "metadata": {
        "colab": {
          "base_uri": "https://localhost:8080/"
        },
        "id": "eLE-dOkjF0nu",
        "outputId": "e0117a3e-b301-4b6a-8d50-8c60df917ab4"
      },
      "source": [
        "# Authenticate gdrive\n",
        "from google.colab import drive\n",
        "drive.mount(\"/content/drive/\")"
      ],
      "execution_count": 23,
      "outputs": [
        {
          "output_type": "stream",
          "text": [
            "Drive already mounted at /content/drive/; to attempt to forcibly remount, call drive.mount(\"/content/drive/\", force_remount=True).\n"
          ],
          "name": "stdout"
        }
      ]
    },
    {
      "cell_type": "code",
      "metadata": {
        "colab": {
          "base_uri": "https://localhost:8080/"
        },
        "id": "mtQ8DvyDJgpO",
        "outputId": "80fdbdcd-5ce4-495c-ffee-0f4974d6e6e1"
      },
      "source": [
        "# exporting some environment variables\n",
        "%env MODE=development\n",
        "%env PROJECT_DIR=robo_pirates_dev\n",
        "%env GH_USERNAME=\"<YOUR_GH_USERNAME>\"\n",
        "%env GH_EMAIL=\"<YOUR_GH_EMAIL_ID>\""
      ],
      "execution_count": 26,
      "outputs": [
        {
          "output_type": "stream",
          "text": [
            "env: MODE=development\n",
            "env: PROJECT_DIR=robo_pirates_dev\n",
            "env: GH_USERNAME=\"<YOUR_GH_USERNAME>\"\n",
            "env: GH_EMAIL=\"<YOUR_GH_EMAIL_ID>\"\n"
          ],
          "name": "stdout"
        }
      ]
    },
    {
      "cell_type": "markdown",
      "metadata": {
        "id": "1NOKnWpwEu5z"
      },
      "source": [
        "### For setting up the development environment - restart the runtime, copy paste the below code to a code cell and execute.\n",
        "\n",
        "```shell\n",
        "%%shell\n",
        "\n",
        " \n",
        "set -e\n",
        "set -x\n",
        "\n",
        "cd /content/drive/MyDrive/\n",
        "mkdir -p /root/.ssh\n",
        "cp ed25519 /root/.ssh/ed25519\n",
        "eval `ssh-agent -s`\n",
        "ssh-add ~/.ssh/ed25519\n",
        "touch ~/.ssh/known_hosts\n",
        "ssh-keyscan -H github.com >> ~/.ssh/known_hosts\n",
        "\n",
        "git clone \"git@github.com:RoboPiratesAGV/robo_pirates_dev.git\"\n",
        "cd \"$PROJECT_DIR\"\n",
        "git config --global user.email \"${GH_EMAIL}\"\n",
        "git config --global user.name \"${GH_USERNAME}\"\n",
        "wget -O data.zip \"https://github.com/RoboPiratesAGV/${MODE}_data/archive/refs/heads/master.zip\"\n",
        "unzip data.zip -d .\n",
        "mv \"${MODE}_data-master\" \"data\"\n",
        "cd data\n",
        "unzip \"*.zip\" -d .\n",
        "rm data_images.zip data_labels.zip ../data.zip\n",
        "echo \"Finished Setup !!\"\n",
        "```"
      ]
    }
  ]
}